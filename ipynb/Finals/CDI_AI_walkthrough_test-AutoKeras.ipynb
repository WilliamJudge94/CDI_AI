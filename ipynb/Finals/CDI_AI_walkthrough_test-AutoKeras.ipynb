{
 "cells": [
  {
   "cell_type": "markdown",
   "metadata": {},
   "source": [
    "# Define Imports and Set Up GPU"
   ]
  },
  {
   "cell_type": "code",
   "execution_count": 1,
   "metadata": {},
   "outputs": [],
   "source": [
    "import tensorflow as tf\n",
    "import numpy as np\n",
    "from tqdm import tqdm\n",
    "import os\n",
    "#from skimage.transform import resize\n",
    "#import matplotlib.pyplot as plt\n",
    "\n",
    "os.environ[\"CUDA_VISIBLE_DEVICES\"]=\"0\""
   ]
  },
  {
   "cell_type": "markdown",
   "metadata": {},
   "source": [
    "# Set Up Normalization"
   ]
  },
  {
   "cell_type": "code",
   "execution_count": 3,
   "metadata": {},
   "outputs": [],
   "source": [
    "def norma2(input_data):\n",
    "    \"\"\"Normalize all data based on their own max values\n",
    "    \n",
    "    Parameters\n",
    "    ==========\n",
    "    \n",
    "    input_data - (np.array)\n",
    "        the full array of all 2D images to normalize based upon their own np.max value\n",
    "        \n",
    "        \n",
    "    Returns\n",
    "    =======\n",
    "    The normalized data\n",
    "    \n",
    "    \"\"\"\n",
    "    \n",
    "    maxies = np.max(input_data, axis=(1,2))\n",
    "    if np.count_nonzero(maxies) != len(input_data):\n",
    "        print('Error - Divide By Zero Found')\n",
    "    output = np.divide(input_data, maxies[:,None, None])\n",
    "    \n",
    "    return output"
   ]
  },
  {
   "cell_type": "markdown",
   "metadata": {},
   "source": [
    "# Import Trained Model"
   ]
  },
  {
   "cell_type": "code",
   "execution_count": 2,
   "metadata": {},
   "outputs": [],
   "source": [
    "# Trained on all Augmented Data after AutoKeras created network\n",
    "model = tf.keras.models.load_model('../trained_model-Autokeras/')"
   ]
  },
  {
   "cell_type": "code",
   "execution_count": 3,
   "metadata": {},
   "outputs": [],
   "source": [
    "# Only trained on Edge and Screw Defects - 9 epochs through AutoKeras\n",
    "model = tf.keras.models.load_model('../untrained_model-Autokeras/')"
   ]
  },
  {
   "cell_type": "markdown",
   "metadata": {},
   "source": [
    "# Test Model On Testing Data"
   ]
  },
  {
   "cell_type": "code",
   "execution_count": 6,
   "metadata": {},
   "outputs": [
    {
     "name": "stdout",
     "output_type": "stream",
     "text": [
      "[[3456    0    0]\n",
      " [   0 3347  109]\n",
      " [   0  457 2999]]\n",
      "[1.0, 0.9684606481481481, 0.8677662037037037]\n",
      "\n",
      "[[1728    0    0]\n",
      " [   0 1626  102]\n",
      " [   0  142 1586]]\n",
      "[1.0, 0.9409722222222222, 0.9178240740740741]\n",
      "\n",
      "[[1728    0    0]\n",
      " [   1 1598  129]\n",
      " [   0   29 1699]]\n",
      "[1.0, 0.9247685185185185, 0.9832175925925926]\n",
      "\n"
     ]
    }
   ],
   "source": [
    "# Load in the already split Training and Test Set2\n",
    "for i in ['2', '3', '14']:\n",
    "\n",
    "    xTest_testing = np.load(f'../testing_data/noise_test_c{i}_dataset_01.npy', allow_pickle=True)\n",
    "    yTest_testing = np.load(f'../testing_data/noise_test_c{i}_labels_01.npy', allow_pickle=True)\n",
    "\n",
    "    # For padding arrays\n",
    "    value = 0\n",
    "\n",
    "    # Section out Perfect - Edge - Screw - Testing Testing - C2 Data\n",
    "    perf_dat = []\n",
    "    edge_dat = []\n",
    "    screw_dat = []\n",
    "\n",
    "    perf_lab = []\n",
    "    edge_lab = []\n",
    "    screw_lab = []\n",
    "\n",
    "\n",
    "    #for idx, labels in tqdm(enumerate(yTest_testing), total=len(yTest_testing)):\n",
    "    for idx, labels in enumerate(yTest_testing):\n",
    "        if labels[0] == 1:\n",
    "            perf_lab.append(labels)\n",
    "            perf_dat.append(xTest_testing[idx])\n",
    "\n",
    "        elif labels[1] == 1:\n",
    "            edge_lab.append(labels)\n",
    "            edge_dat.append(xTest_testing[idx])\n",
    "\n",
    "        elif labels[2] == 1:\n",
    "            screw_lab.append(labels)\n",
    "            screw_dat.append(xTest_testing[idx])\n",
    "\n",
    "    perf_dat = np.asarray(perf_dat)\n",
    "    edge_dat = np.asarray(edge_dat)\n",
    "    screw_dat = np.asarray(screw_dat)\n",
    "\n",
    "    perf_lab = np.asarray(perf_lab)\n",
    "    edge_lab = np.asarray(edge_lab)\n",
    "    screw_lab = np.asarray(screw_lab)\n",
    "\n",
    "\n",
    "\n",
    "    X_test_testing = np.vstack((perf_dat, edge_dat,screw_dat))\n",
    "    y_test_testing = np.vstack((perf_lab, edge_lab, screw_lab))\n",
    "\n",
    "    y_test = np.asarray(y_test_testing)\n",
    "\n",
    "    # Normalize\n",
    "    X_test_testing = norma2(X_test_testing)\n",
    "\n",
    "\n",
    "    X_test_testing = X_test_testing.reshape((X_test_testing.shape[0], 64, 64, 1))\n",
    "\n",
    "    X_test_testing = np.asarray(np.repeat(X_test_testing, 3, 3))\n",
    "\n",
    "\n",
    "    actual_vals = []\n",
    "\n",
    "    for v in y_test:\n",
    "        if all(v == [1,0,0]):\n",
    "            actual_vals.append(0)\n",
    "\n",
    "        elif all(v == [0,1,0]):\n",
    "            actual_vals.append(1)\n",
    "\n",
    "        elif all(v == [0,0,1]):\n",
    "            actual_vals.append(2)\n",
    "\n",
    "\n",
    "    preds = model.predict(X_test_testing)\n",
    "\n",
    "    from sklearn.metrics import confusion_matrix\n",
    "\n",
    "    pred_vals = []\n",
    "    for v2 in preds:\n",
    "        pred_vals.append(np.argmax(v2))\n",
    "\n",
    "\n",
    "    def percents(conf):\n",
    "        ars = []\n",
    "        for idx, ar in enumerate(conf):\n",
    "            total = np.sum(ar)\n",
    "            output = ar[idx]/total\n",
    "            ars.append(output)\n",
    "        return ars\n",
    "\n",
    "    \n",
    "    conf = confusion_matrix(actual_vals, pred_vals, labels= (0, 1, 2))\n",
    "    print(conf)\n",
    "    coos = percents(conf)\n",
    "    print(coos)\n",
    "    print('')"
   ]
  }
 ],
 "metadata": {
  "kernelspec": {
   "display_name": "Python [conda env:tf_21]",
   "language": "python",
   "name": "conda-env-tf_21-py"
  },
  "language_info": {
   "codemirror_mode": {
    "name": "ipython",
    "version": 3
   },
   "file_extension": ".py",
   "mimetype": "text/x-python",
   "name": "python",
   "nbconvert_exporter": "python",
   "pygments_lexer": "ipython3",
   "version": "3.6.10"
  }
 },
 "nbformat": 4,
 "nbformat_minor": 4
}
