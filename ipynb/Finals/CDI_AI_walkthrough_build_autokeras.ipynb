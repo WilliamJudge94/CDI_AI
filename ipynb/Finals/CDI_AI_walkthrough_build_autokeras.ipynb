{
 "cells": [
  {
   "cell_type": "markdown",
   "metadata": {},
   "source": [
    "# AutoKeras Model Generator"
   ]
  },
  {
   "cell_type": "markdown",
   "metadata": {},
   "source": [
    "# Imports"
   ]
  },
  {
   "cell_type": "code",
   "execution_count": 1,
   "metadata": {},
   "outputs": [],
   "source": [
    "import os\n",
    "import numpy as np\n",
    "%matplotlib inline\n",
    "import matplotlib.pylab as plt\n",
    "import autokeras as ak\n",
    "\n",
    "#pip install absl-py\n",
    "#tensorflow 2.3.0 is not installed properly \n",
    "\n",
    "\n",
    "# Use the 0th GPU in the computer\n",
    "os.environ[\"CUDA_VISIBLE_DEVICES\"]=\"0\"\n",
    "\n",
    "\n",
    "#import tensorflow as tf\n",
    "#tf.config.list_physical_devices('GPU')"
   ]
  },
  {
   "cell_type": "markdown",
   "metadata": {},
   "source": [
    "# Functions"
   ]
  },
  {
   "cell_type": "code",
   "execution_count": 2,
   "metadata": {},
   "outputs": [],
   "source": [
    "def norma2(input_data):\n",
    "    \"\"\"Normalize all data based on their own max values\n",
    "    \n",
    "    Parameters\n",
    "    ==========\n",
    "    \n",
    "    input_data - (np.array)\n",
    "        the full array of all 2D images to normalize based upon their own np.max value\n",
    "        \n",
    "        \n",
    "    Returns\n",
    "    =======\n",
    "    The normalized data\n",
    "    \n",
    "    \"\"\"\n",
    "    \n",
    "    maxies = np.max(input_data, axis=(1,2))\n",
    "    if np.count_nonzero(maxies) != len(input_data):\n",
    "        print('Error - Divide By Zero Found')\n",
    "    output = np.divide(input_data, maxies[:,None, None])\n",
    "\n",
    "    \n",
    "    return output\n"
   ]
  },
  {
   "cell_type": "code",
   "execution_count": 3,
   "metadata": {},
   "outputs": [],
   "source": [
    "# Load in the already split Training and Test Sets 64x64 image dataset\n",
    "xTrain = np.load('../training_data/noise_train_datatset_01.npy', allow_pickle=True)\n",
    "yTrain = np.load('../training_data/noise_train_labels_01.npy', allow_pickle=True)"
   ]
  },
  {
   "cell_type": "markdown",
   "metadata": {},
   "source": [
    "# DataPrep"
   ]
  },
  {
   "cell_type": "code",
   "execution_count": 4,
   "metadata": {},
   "outputs": [
    {
     "data": {
      "text/plain": [
       "((22032, 64, 64), (22032, 3))"
      ]
     },
     "execution_count": 4,
     "metadata": {},
     "output_type": "execute_result"
    }
   ],
   "source": [
    "# Obtain every 8th data point for faster training\n",
    "new_xTrain2 = []\n",
    "new_yTrain2 = []\n",
    "\n",
    "for kk, value in enumerate(xTrain):\n",
    "    if kk%8 == 0:\n",
    "        new_xTrain2.append(value)\n",
    "        new_yTrain2.append(yTrain[kk])\n",
    "        \n",
    "new_xTrain2 = np.asarray(new_xTrain2)\n",
    "new_yTrain2 = np.asarray(new_yTrain2)\n",
    "\n",
    "xTrain = new_xTrain2\n",
    "yTrain = new_yTrain2\n",
    "\n",
    "new_xTrain2.shape, new_yTrain2.shape"
   ]
  },
  {
   "cell_type": "code",
   "execution_count": 5,
   "metadata": {},
   "outputs": [
    {
     "name": "stdout",
     "output_type": "stream",
     "text": [
      "ONLY HAS EDGE AND SCREW DATA!!!!\n",
      "(12484, 64, 64) float64 (2204, 64, 64) float64\n"
     ]
    }
   ],
   "source": [
    "# Section out Perfect - Edge - Screw - Training Testing\n",
    "perf_dat = []\n",
    "edge_dat = []\n",
    "screw_dat = []\n",
    "\n",
    "perf_lab = []\n",
    "edge_lab = []\n",
    "screw_lab = []\n",
    "\n",
    "\n",
    "for idx, labels in enumerate(yTrain):\n",
    "    if labels[0] == 1:\n",
    "        perf_lab.append(labels)\n",
    "        perf_dat.append(xTrain[idx])\n",
    "    \n",
    "    elif labels[1] == 1:\n",
    "        edge_lab.append(labels)\n",
    "        edge_dat.append(xTrain[idx])\n",
    "        \n",
    "    elif labels[2] == 1:\n",
    "        screw_lab.append(labels)\n",
    "        screw_dat.append(xTrain[idx])\n",
    "\n",
    "        \n",
    "perf_dat = np.asarray(perf_dat)\n",
    "edge_dat = np.asarray(edge_dat)\n",
    "screw_dat = np.asarray(screw_dat)\n",
    "\n",
    "perf_lab = np.asarray(perf_lab)\n",
    "edge_lab = np.asarray(edge_lab)\n",
    "screw_lab = np.asarray(screw_lab)\n",
    "\n",
    "\n",
    "X_train = np.vstack((edge_dat, screw_dat))\n",
    "y_train = np.vstack((edge_lab, screw_lab))\n",
    "\n",
    "print('ONLY HAS EDGE AND SCREW DATA!!!!')\n",
    "\n",
    "\n",
    "from sklearn.model_selection import train_test_split\n",
    "xTrain, xTest, yTrain, yTest = train_test_split(X_train, \n",
    "                                                y_train, \n",
    "                                                test_size = 0.15, \n",
    "                                                random_state = 0)\n",
    "\n",
    "print(xTrain.shape, xTrain.dtype, xTest.shape, xTest.dtype)"
   ]
  },
  {
   "cell_type": "code",
   "execution_count": 6,
   "metadata": {},
   "outputs": [
    {
     "data": {
      "text/plain": [
       "((12484, 64, 64, 3),\n",
       " (12484, 3),\n",
       " (2204, 64, 64, 3),\n",
       " (2204, 3),\n",
       " dtype('float64'),\n",
       " dtype('float64'))"
      ]
     },
     "execution_count": 6,
     "metadata": {},
     "output_type": "execute_result"
    }
   ],
   "source": [
    "y_train = np.asarray(yTrain)\n",
    "y_test = np.asarray(yTest)\n",
    "\n",
    "X_train = norma2(xTrain)\n",
    "X_test = norma2(xTest)\n",
    "\n",
    "\n",
    "X_train = X_train.reshape((X_train.shape[0], 64, 64, 1))\n",
    "X_test = X_test.reshape((X_test.shape[0], 64, 64, 1))\n",
    "\n",
    "X_train = np.asarray(np.repeat(X_train, 3, 3))\n",
    "X_test = np.asarray(np.repeat(X_test, 3, 3))\n",
    "\n",
    "\n",
    "X_train.shape, y_train.shape, X_test.shape, y_test.shape, X_train.dtype, X_test.dtype"
   ]
  },
  {
   "cell_type": "markdown",
   "metadata": {},
   "source": [
    "# Build AutoKeras"
   ]
  },
  {
   "cell_type": "code",
   "execution_count": 8,
   "metadata": {
    "collapsed": true,
    "jupyter": {
     "outputs_hidden": true
    }
   },
   "outputs": [
    {
     "name": "stdout",
     "output_type": "stream",
     "text": [
      "Trial 3 Complete [00h 08m 50s]\n",
      "val_loss: 0.8166293501853943\n",
      "\n",
      "Best val_loss So Far: 0.42778176069259644\n",
      "Total elapsed time: 01h 09m 56s\n",
      "\n",
      "Search: Running Trial #4\n",
      "\n",
      "Hyperparameter      |Value     |Best Value So Far   \n",
      "image_block_1/normalize|False     |True                \n",
      "image_block_1/augment|False     |False               \n",
      "image_block_1/block_type|resnet    |vanilla             \n",
      "image_block_1/res_net_block_1/pretrained|True      |None                \n",
      "image_block_1/res_net_block_1/version|resnet101 |None                \n",
      "image_block_1/res_net_block_1/imagenet_size|False     |None                \n",
      "classification_head_1/spatial_reduction_1/reduction_type|flatten   |flatten             \n",
      "classification_head_1/dropout|0         |0.5                 \n",
      "optimizer           |adam      |adam                \n",
      "learning_rate       |0.001     |0.001               \n",
      "\n",
      "Downloading data from https://storage.googleapis.com/tensorflow/keras-applications/resnet/resnet101_weights_tf_dim_ordering_tf_kernels_notop.h5\n",
      "171450368/171446536 [==============================] - 26s 0us/step\n"
     ]
    },
    {
     "name": "stderr",
     "output_type": "stream",
     "text": [
      "Traceback (most recent call last):\n",
      "  File \"/home/will/anaconda3/envs/autok2/lib/python3.7/site-packages/kerastuner/engine/hypermodel.py\", line 104, in build\n",
      "    model = self.hypermodel.build(hp)\n",
      "  File \"/home/will/anaconda3/envs/autok2/lib/python3.7/site-packages/kerastuner/engine/hypermodel.py\", line 64, in _build_wrapper\n",
      "    return self._build(hp, *args, **kwargs)\n",
      "  File \"/home/will/anaconda3/envs/autok2/lib/python3.7/site-packages/autokeras-1.0.6.dev0-py3.7.egg/autokeras/graph.py\", line 263, in build\n",
      "    outputs = block.build(hp, inputs=temp_inputs)\n",
      "  File \"/home/will/anaconda3/envs/autok2/lib/python3.7/site-packages/autokeras-1.0.6.dev0-py3.7.egg/autokeras/engine/block.py\", line 48, in _build_wrapper\n",
      "    return super()._build_wrapper(hp, *args, **kwargs)\n",
      "  File \"/home/will/anaconda3/envs/autok2/lib/python3.7/site-packages/kerastuner/engine/hypermodel.py\", line 64, in _build_wrapper\n",
      "    return self._build(hp, *args, **kwargs)\n",
      "  File \"/home/will/anaconda3/envs/autok2/lib/python3.7/site-packages/autokeras-1.0.6.dev0-py3.7.egg/autokeras/blocks/wrapper.py\", line 102, in build\n",
      "    output_node = self._build_block(hp, output_node, block_type)\n",
      "  File \"/home/will/anaconda3/envs/autok2/lib/python3.7/site-packages/autokeras-1.0.6.dev0-py3.7.egg/autokeras/blocks/wrapper.py\", line 75, in _build_block\n",
      "    return basic.ResNetBlock().build(hp, output_node)\n",
      "  File \"/home/will/anaconda3/envs/autok2/lib/python3.7/site-packages/autokeras-1.0.6.dev0-py3.7.egg/autokeras/engine/block.py\", line 48, in _build_wrapper\n",
      "    return super()._build_wrapper(hp, *args, **kwargs)\n",
      "  File \"/home/will/anaconda3/envs/autok2/lib/python3.7/site-packages/kerastuner/engine/hypermodel.py\", line 64, in _build_wrapper\n",
      "    return self._build(hp, *args, **kwargs)\n",
      "  File \"/home/will/anaconda3/envs/autok2/lib/python3.7/site-packages/autokeras-1.0.6.dev0-py3.7.egg/autokeras/blocks/basic.py\", line 574, in build\n",
      "    model.trainable = hp.Boolean(\"trainable\", default=False)\n",
      "  File \"/home/will/anaconda3/envs/autok2/lib/python3.7/site-packages/kerastuner/engine/hyperparameters.py\", line 814, in Boolean\n",
      "    return self._retrieve(hp)\n",
      "  File \"/home/will/anaconda3/envs/autok2/lib/python3.7/site-packages/kerastuner/engine/hyperparameters.py\", line 625, in _retrieve\n",
      "    return self.values[hp.name]\n",
      "KeyError: 'image_block_1/res_net_block_1/trainable'\n"
     ]
    },
    {
     "name": "stdout",
     "output_type": "stream",
     "text": [
      "Invalid model 0/5\n"
     ]
    },
    {
     "name": "stderr",
     "output_type": "stream",
     "text": [
      "Traceback (most recent call last):\n",
      "  File \"/home/will/anaconda3/envs/autok2/lib/python3.7/site-packages/kerastuner/engine/hypermodel.py\", line 104, in build\n",
      "    model = self.hypermodel.build(hp)\n",
      "  File \"/home/will/anaconda3/envs/autok2/lib/python3.7/site-packages/kerastuner/engine/hypermodel.py\", line 64, in _build_wrapper\n",
      "    return self._build(hp, *args, **kwargs)\n",
      "  File \"/home/will/anaconda3/envs/autok2/lib/python3.7/site-packages/autokeras-1.0.6.dev0-py3.7.egg/autokeras/graph.py\", line 263, in build\n",
      "    outputs = block.build(hp, inputs=temp_inputs)\n",
      "  File \"/home/will/anaconda3/envs/autok2/lib/python3.7/site-packages/autokeras-1.0.6.dev0-py3.7.egg/autokeras/engine/block.py\", line 48, in _build_wrapper\n",
      "    return super()._build_wrapper(hp, *args, **kwargs)\n",
      "  File \"/home/will/anaconda3/envs/autok2/lib/python3.7/site-packages/kerastuner/engine/hypermodel.py\", line 64, in _build_wrapper\n",
      "    return self._build(hp, *args, **kwargs)\n",
      "  File \"/home/will/anaconda3/envs/autok2/lib/python3.7/site-packages/autokeras-1.0.6.dev0-py3.7.egg/autokeras/blocks/wrapper.py\", line 102, in build\n",
      "    output_node = self._build_block(hp, output_node, block_type)\n",
      "  File \"/home/will/anaconda3/envs/autok2/lib/python3.7/site-packages/autokeras-1.0.6.dev0-py3.7.egg/autokeras/blocks/wrapper.py\", line 75, in _build_block\n",
      "    return basic.ResNetBlock().build(hp, output_node)\n",
      "  File \"/home/will/anaconda3/envs/autok2/lib/python3.7/site-packages/autokeras-1.0.6.dev0-py3.7.egg/autokeras/engine/block.py\", line 48, in _build_wrapper\n",
      "    return super()._build_wrapper(hp, *args, **kwargs)\n",
      "  File \"/home/will/anaconda3/envs/autok2/lib/python3.7/site-packages/kerastuner/engine/hypermodel.py\", line 64, in _build_wrapper\n",
      "    return self._build(hp, *args, **kwargs)\n",
      "  File \"/home/will/anaconda3/envs/autok2/lib/python3.7/site-packages/autokeras-1.0.6.dev0-py3.7.egg/autokeras/blocks/basic.py\", line 574, in build\n",
      "    model.trainable = hp.Boolean(\"trainable\", default=False)\n",
      "  File \"/home/will/anaconda3/envs/autok2/lib/python3.7/site-packages/kerastuner/engine/hyperparameters.py\", line 814, in Boolean\n",
      "    return self._retrieve(hp)\n",
      "  File \"/home/will/anaconda3/envs/autok2/lib/python3.7/site-packages/kerastuner/engine/hyperparameters.py\", line 625, in _retrieve\n",
      "    return self.values[hp.name]\n",
      "KeyError: 'image_block_1/res_net_block_1/trainable'\n"
     ]
    },
    {
     "name": "stdout",
     "output_type": "stream",
     "text": [
      "Invalid model 1/5\n"
     ]
    },
    {
     "name": "stderr",
     "output_type": "stream",
     "text": [
      "Traceback (most recent call last):\n",
      "  File \"/home/will/anaconda3/envs/autok2/lib/python3.7/site-packages/kerastuner/engine/hypermodel.py\", line 104, in build\n",
      "    model = self.hypermodel.build(hp)\n",
      "  File \"/home/will/anaconda3/envs/autok2/lib/python3.7/site-packages/kerastuner/engine/hypermodel.py\", line 64, in _build_wrapper\n",
      "    return self._build(hp, *args, **kwargs)\n",
      "  File \"/home/will/anaconda3/envs/autok2/lib/python3.7/site-packages/autokeras-1.0.6.dev0-py3.7.egg/autokeras/graph.py\", line 263, in build\n",
      "    outputs = block.build(hp, inputs=temp_inputs)\n",
      "  File \"/home/will/anaconda3/envs/autok2/lib/python3.7/site-packages/autokeras-1.0.6.dev0-py3.7.egg/autokeras/engine/block.py\", line 48, in _build_wrapper\n",
      "    return super()._build_wrapper(hp, *args, **kwargs)\n",
      "  File \"/home/will/anaconda3/envs/autok2/lib/python3.7/site-packages/kerastuner/engine/hypermodel.py\", line 64, in _build_wrapper\n",
      "    return self._build(hp, *args, **kwargs)\n",
      "  File \"/home/will/anaconda3/envs/autok2/lib/python3.7/site-packages/autokeras-1.0.6.dev0-py3.7.egg/autokeras/blocks/wrapper.py\", line 102, in build\n",
      "    output_node = self._build_block(hp, output_node, block_type)\n",
      "  File \"/home/will/anaconda3/envs/autok2/lib/python3.7/site-packages/autokeras-1.0.6.dev0-py3.7.egg/autokeras/blocks/wrapper.py\", line 75, in _build_block\n",
      "    return basic.ResNetBlock().build(hp, output_node)\n",
      "  File \"/home/will/anaconda3/envs/autok2/lib/python3.7/site-packages/autokeras-1.0.6.dev0-py3.7.egg/autokeras/engine/block.py\", line 48, in _build_wrapper\n",
      "    return super()._build_wrapper(hp, *args, **kwargs)\n",
      "  File \"/home/will/anaconda3/envs/autok2/lib/python3.7/site-packages/kerastuner/engine/hypermodel.py\", line 64, in _build_wrapper\n",
      "    return self._build(hp, *args, **kwargs)\n",
      "  File \"/home/will/anaconda3/envs/autok2/lib/python3.7/site-packages/autokeras-1.0.6.dev0-py3.7.egg/autokeras/blocks/basic.py\", line 574, in build\n",
      "    model.trainable = hp.Boolean(\"trainable\", default=False)\n",
      "  File \"/home/will/anaconda3/envs/autok2/lib/python3.7/site-packages/kerastuner/engine/hyperparameters.py\", line 814, in Boolean\n",
      "    return self._retrieve(hp)\n",
      "  File \"/home/will/anaconda3/envs/autok2/lib/python3.7/site-packages/kerastuner/engine/hyperparameters.py\", line 625, in _retrieve\n",
      "    return self.values[hp.name]\n",
      "KeyError: 'image_block_1/res_net_block_1/trainable'\n"
     ]
    },
    {
     "name": "stdout",
     "output_type": "stream",
     "text": [
      "Invalid model 2/5\n"
     ]
    },
    {
     "name": "stderr",
     "output_type": "stream",
     "text": [
      "Traceback (most recent call last):\n",
      "  File \"/home/will/anaconda3/envs/autok2/lib/python3.7/site-packages/kerastuner/engine/hypermodel.py\", line 104, in build\n",
      "    model = self.hypermodel.build(hp)\n",
      "  File \"/home/will/anaconda3/envs/autok2/lib/python3.7/site-packages/kerastuner/engine/hypermodel.py\", line 64, in _build_wrapper\n",
      "    return self._build(hp, *args, **kwargs)\n",
      "  File \"/home/will/anaconda3/envs/autok2/lib/python3.7/site-packages/autokeras-1.0.6.dev0-py3.7.egg/autokeras/graph.py\", line 263, in build\n",
      "    outputs = block.build(hp, inputs=temp_inputs)\n",
      "  File \"/home/will/anaconda3/envs/autok2/lib/python3.7/site-packages/autokeras-1.0.6.dev0-py3.7.egg/autokeras/engine/block.py\", line 48, in _build_wrapper\n",
      "    return super()._build_wrapper(hp, *args, **kwargs)\n",
      "  File \"/home/will/anaconda3/envs/autok2/lib/python3.7/site-packages/kerastuner/engine/hypermodel.py\", line 64, in _build_wrapper\n",
      "    return self._build(hp, *args, **kwargs)\n",
      "  File \"/home/will/anaconda3/envs/autok2/lib/python3.7/site-packages/autokeras-1.0.6.dev0-py3.7.egg/autokeras/blocks/wrapper.py\", line 102, in build\n",
      "    output_node = self._build_block(hp, output_node, block_type)\n",
      "  File \"/home/will/anaconda3/envs/autok2/lib/python3.7/site-packages/autokeras-1.0.6.dev0-py3.7.egg/autokeras/blocks/wrapper.py\", line 75, in _build_block\n",
      "    return basic.ResNetBlock().build(hp, output_node)\n",
      "  File \"/home/will/anaconda3/envs/autok2/lib/python3.7/site-packages/autokeras-1.0.6.dev0-py3.7.egg/autokeras/engine/block.py\", line 48, in _build_wrapper\n",
      "    return super()._build_wrapper(hp, *args, **kwargs)\n",
      "  File \"/home/will/anaconda3/envs/autok2/lib/python3.7/site-packages/kerastuner/engine/hypermodel.py\", line 64, in _build_wrapper\n",
      "    return self._build(hp, *args, **kwargs)\n",
      "  File \"/home/will/anaconda3/envs/autok2/lib/python3.7/site-packages/autokeras-1.0.6.dev0-py3.7.egg/autokeras/blocks/basic.py\", line 574, in build\n",
      "    model.trainable = hp.Boolean(\"trainable\", default=False)\n",
      "  File \"/home/will/anaconda3/envs/autok2/lib/python3.7/site-packages/kerastuner/engine/hyperparameters.py\", line 814, in Boolean\n",
      "    return self._retrieve(hp)\n",
      "  File \"/home/will/anaconda3/envs/autok2/lib/python3.7/site-packages/kerastuner/engine/hyperparameters.py\", line 625, in _retrieve\n",
      "    return self.values[hp.name]\n",
      "KeyError: 'image_block_1/res_net_block_1/trainable'\n"
     ]
    },
    {
     "name": "stdout",
     "output_type": "stream",
     "text": [
      "Invalid model 3/5\n"
     ]
    },
    {
     "name": "stderr",
     "output_type": "stream",
     "text": [
      "Traceback (most recent call last):\n",
      "  File \"/home/will/anaconda3/envs/autok2/lib/python3.7/site-packages/kerastuner/engine/hypermodel.py\", line 104, in build\n",
      "    model = self.hypermodel.build(hp)\n",
      "  File \"/home/will/anaconda3/envs/autok2/lib/python3.7/site-packages/kerastuner/engine/hypermodel.py\", line 64, in _build_wrapper\n",
      "    return self._build(hp, *args, **kwargs)\n",
      "  File \"/home/will/anaconda3/envs/autok2/lib/python3.7/site-packages/autokeras-1.0.6.dev0-py3.7.egg/autokeras/graph.py\", line 263, in build\n",
      "    outputs = block.build(hp, inputs=temp_inputs)\n",
      "  File \"/home/will/anaconda3/envs/autok2/lib/python3.7/site-packages/autokeras-1.0.6.dev0-py3.7.egg/autokeras/engine/block.py\", line 48, in _build_wrapper\n",
      "    return super()._build_wrapper(hp, *args, **kwargs)\n",
      "  File \"/home/will/anaconda3/envs/autok2/lib/python3.7/site-packages/kerastuner/engine/hypermodel.py\", line 64, in _build_wrapper\n",
      "    return self._build(hp, *args, **kwargs)\n",
      "  File \"/home/will/anaconda3/envs/autok2/lib/python3.7/site-packages/autokeras-1.0.6.dev0-py3.7.egg/autokeras/blocks/wrapper.py\", line 102, in build\n",
      "    output_node = self._build_block(hp, output_node, block_type)\n",
      "  File \"/home/will/anaconda3/envs/autok2/lib/python3.7/site-packages/autokeras-1.0.6.dev0-py3.7.egg/autokeras/blocks/wrapper.py\", line 75, in _build_block\n",
      "    return basic.ResNetBlock().build(hp, output_node)\n",
      "  File \"/home/will/anaconda3/envs/autok2/lib/python3.7/site-packages/autokeras-1.0.6.dev0-py3.7.egg/autokeras/engine/block.py\", line 48, in _build_wrapper\n",
      "    return super()._build_wrapper(hp, *args, **kwargs)\n",
      "  File \"/home/will/anaconda3/envs/autok2/lib/python3.7/site-packages/kerastuner/engine/hypermodel.py\", line 64, in _build_wrapper\n",
      "    return self._build(hp, *args, **kwargs)\n",
      "  File \"/home/will/anaconda3/envs/autok2/lib/python3.7/site-packages/autokeras-1.0.6.dev0-py3.7.egg/autokeras/blocks/basic.py\", line 574, in build\n",
      "    model.trainable = hp.Boolean(\"trainable\", default=False)\n",
      "  File \"/home/will/anaconda3/envs/autok2/lib/python3.7/site-packages/kerastuner/engine/hyperparameters.py\", line 814, in Boolean\n",
      "    return self._retrieve(hp)\n",
      "  File \"/home/will/anaconda3/envs/autok2/lib/python3.7/site-packages/kerastuner/engine/hyperparameters.py\", line 625, in _retrieve\n",
      "    return self.values[hp.name]\n",
      "KeyError: 'image_block_1/res_net_block_1/trainable'\n"
     ]
    },
    {
     "name": "stdout",
     "output_type": "stream",
     "text": [
      "Invalid model 4/5\n"
     ]
    },
    {
     "name": "stderr",
     "output_type": "stream",
     "text": [
      "Traceback (most recent call last):\n",
      "  File \"/home/will/anaconda3/envs/autok2/lib/python3.7/site-packages/kerastuner/engine/hypermodel.py\", line 104, in build\n",
      "    model = self.hypermodel.build(hp)\n",
      "  File \"/home/will/anaconda3/envs/autok2/lib/python3.7/site-packages/kerastuner/engine/hypermodel.py\", line 64, in _build_wrapper\n",
      "    return self._build(hp, *args, **kwargs)\n",
      "  File \"/home/will/anaconda3/envs/autok2/lib/python3.7/site-packages/autokeras-1.0.6.dev0-py3.7.egg/autokeras/graph.py\", line 263, in build\n",
      "    outputs = block.build(hp, inputs=temp_inputs)\n",
      "  File \"/home/will/anaconda3/envs/autok2/lib/python3.7/site-packages/autokeras-1.0.6.dev0-py3.7.egg/autokeras/engine/block.py\", line 48, in _build_wrapper\n",
      "    return super()._build_wrapper(hp, *args, **kwargs)\n",
      "  File \"/home/will/anaconda3/envs/autok2/lib/python3.7/site-packages/kerastuner/engine/hypermodel.py\", line 64, in _build_wrapper\n",
      "    return self._build(hp, *args, **kwargs)\n",
      "  File \"/home/will/anaconda3/envs/autok2/lib/python3.7/site-packages/autokeras-1.0.6.dev0-py3.7.egg/autokeras/blocks/wrapper.py\", line 102, in build\n",
      "    output_node = self._build_block(hp, output_node, block_type)\n",
      "  File \"/home/will/anaconda3/envs/autok2/lib/python3.7/site-packages/autokeras-1.0.6.dev0-py3.7.egg/autokeras/blocks/wrapper.py\", line 75, in _build_block\n",
      "    return basic.ResNetBlock().build(hp, output_node)\n",
      "  File \"/home/will/anaconda3/envs/autok2/lib/python3.7/site-packages/autokeras-1.0.6.dev0-py3.7.egg/autokeras/engine/block.py\", line 48, in _build_wrapper\n",
      "    return super()._build_wrapper(hp, *args, **kwargs)\n",
      "  File \"/home/will/anaconda3/envs/autok2/lib/python3.7/site-packages/kerastuner/engine/hypermodel.py\", line 64, in _build_wrapper\n",
      "    return self._build(hp, *args, **kwargs)\n",
      "  File \"/home/will/anaconda3/envs/autok2/lib/python3.7/site-packages/autokeras-1.0.6.dev0-py3.7.egg/autokeras/blocks/basic.py\", line 574, in build\n",
      "    model.trainable = hp.Boolean(\"trainable\", default=False)\n",
      "  File \"/home/will/anaconda3/envs/autok2/lib/python3.7/site-packages/kerastuner/engine/hyperparameters.py\", line 814, in Boolean\n",
      "    return self._retrieve(hp)\n",
      "  File \"/home/will/anaconda3/envs/autok2/lib/python3.7/site-packages/kerastuner/engine/hyperparameters.py\", line 625, in _retrieve\n",
      "    return self.values[hp.name]\n",
      "KeyError: 'image_block_1/res_net_block_1/trainable'\n"
     ]
    },
    {
     "name": "stdout",
     "output_type": "stream",
     "text": [
      "Invalid model 5/5\n"
     ]
    },
    {
     "ename": "RuntimeError",
     "evalue": "Too many failed attempts to build model.",
     "output_type": "error",
     "traceback": [
      "\u001b[0;31m---------------------------------------------------------------------------\u001b[0m",
      "\u001b[0;31mKeyError\u001b[0m                                  Traceback (most recent call last)",
      "\u001b[0;32m~/anaconda3/envs/autok2/lib/python3.7/site-packages/kerastuner/engine/hypermodel.py\u001b[0m in \u001b[0;36mbuild\u001b[0;34m(self, hp)\u001b[0m\n\u001b[1;32m    103\u001b[0m                 \u001b[0;32mwith\u001b[0m \u001b[0mmaybe_distribute\u001b[0m\u001b[0;34m(\u001b[0m\u001b[0mself\u001b[0m\u001b[0;34m.\u001b[0m\u001b[0mdistribution_strategy\u001b[0m\u001b[0;34m)\u001b[0m\u001b[0;34m:\u001b[0m\u001b[0;34m\u001b[0m\u001b[0;34m\u001b[0m\u001b[0m\n\u001b[0;32m--> 104\u001b[0;31m                     \u001b[0mmodel\u001b[0m \u001b[0;34m=\u001b[0m \u001b[0mself\u001b[0m\u001b[0;34m.\u001b[0m\u001b[0mhypermodel\u001b[0m\u001b[0;34m.\u001b[0m\u001b[0mbuild\u001b[0m\u001b[0;34m(\u001b[0m\u001b[0mhp\u001b[0m\u001b[0;34m)\u001b[0m\u001b[0;34m\u001b[0m\u001b[0;34m\u001b[0m\u001b[0m\n\u001b[0m\u001b[1;32m    105\u001b[0m             \u001b[0;32mexcept\u001b[0m\u001b[0;34m:\u001b[0m\u001b[0;34m\u001b[0m\u001b[0;34m\u001b[0m\u001b[0m\n",
      "\u001b[0;32m~/anaconda3/envs/autok2/lib/python3.7/site-packages/kerastuner/engine/hypermodel.py\u001b[0m in \u001b[0;36m_build_wrapper\u001b[0;34m(self, hp, *args, **kwargs)\u001b[0m\n\u001b[1;32m     63\u001b[0m             \u001b[0mhp\u001b[0m \u001b[0;34m=\u001b[0m \u001b[0mhp\u001b[0m\u001b[0;34m.\u001b[0m\u001b[0mcopy\u001b[0m\u001b[0;34m(\u001b[0m\u001b[0;34m)\u001b[0m\u001b[0;34m\u001b[0m\u001b[0;34m\u001b[0m\u001b[0m\n\u001b[0;32m---> 64\u001b[0;31m         \u001b[0;32mreturn\u001b[0m \u001b[0mself\u001b[0m\u001b[0;34m.\u001b[0m\u001b[0m_build\u001b[0m\u001b[0;34m(\u001b[0m\u001b[0mhp\u001b[0m\u001b[0;34m,\u001b[0m \u001b[0;34m*\u001b[0m\u001b[0margs\u001b[0m\u001b[0;34m,\u001b[0m \u001b[0;34m**\u001b[0m\u001b[0mkwargs\u001b[0m\u001b[0;34m)\u001b[0m\u001b[0;34m\u001b[0m\u001b[0;34m\u001b[0m\u001b[0m\n\u001b[0m\u001b[1;32m     65\u001b[0m \u001b[0;34m\u001b[0m\u001b[0m\n",
      "\u001b[0;32m~/anaconda3/envs/autok2/lib/python3.7/site-packages/autokeras-1.0.6.dev0-py3.7.egg/autokeras/graph.py\u001b[0m in \u001b[0;36mbuild\u001b[0;34m(self, hp)\u001b[0m\n\u001b[1;32m    262\u001b[0m             ]\n\u001b[0;32m--> 263\u001b[0;31m             \u001b[0moutputs\u001b[0m \u001b[0;34m=\u001b[0m \u001b[0mblock\u001b[0m\u001b[0;34m.\u001b[0m\u001b[0mbuild\u001b[0m\u001b[0;34m(\u001b[0m\u001b[0mhp\u001b[0m\u001b[0;34m,\u001b[0m \u001b[0minputs\u001b[0m\u001b[0;34m=\u001b[0m\u001b[0mtemp_inputs\u001b[0m\u001b[0;34m)\u001b[0m\u001b[0;34m\u001b[0m\u001b[0;34m\u001b[0m\u001b[0m\n\u001b[0m\u001b[1;32m    264\u001b[0m             \u001b[0moutputs\u001b[0m \u001b[0;34m=\u001b[0m \u001b[0mnest\u001b[0m\u001b[0;34m.\u001b[0m\u001b[0mflatten\u001b[0m\u001b[0;34m(\u001b[0m\u001b[0moutputs\u001b[0m\u001b[0;34m)\u001b[0m\u001b[0;34m\u001b[0m\u001b[0;34m\u001b[0m\u001b[0m\n",
      "\u001b[0;32m~/anaconda3/envs/autok2/lib/python3.7/site-packages/autokeras-1.0.6.dev0-py3.7.egg/autokeras/engine/block.py\u001b[0m in \u001b[0;36m_build_wrapper\u001b[0;34m(self, hp, *args, **kwargs)\u001b[0m\n\u001b[1;32m     47\u001b[0m         \u001b[0;32mwith\u001b[0m \u001b[0mhp\u001b[0m\u001b[0;34m.\u001b[0m\u001b[0mname_scope\u001b[0m\u001b[0;34m(\u001b[0m\u001b[0mself\u001b[0m\u001b[0;34m.\u001b[0m\u001b[0mname\u001b[0m\u001b[0;34m)\u001b[0m\u001b[0;34m:\u001b[0m\u001b[0;34m\u001b[0m\u001b[0;34m\u001b[0m\u001b[0m\n\u001b[0;32m---> 48\u001b[0;31m             \u001b[0;32mreturn\u001b[0m \u001b[0msuper\u001b[0m\u001b[0;34m(\u001b[0m\u001b[0;34m)\u001b[0m\u001b[0;34m.\u001b[0m\u001b[0m_build_wrapper\u001b[0m\u001b[0;34m(\u001b[0m\u001b[0mhp\u001b[0m\u001b[0;34m,\u001b[0m \u001b[0;34m*\u001b[0m\u001b[0margs\u001b[0m\u001b[0;34m,\u001b[0m \u001b[0;34m**\u001b[0m\u001b[0mkwargs\u001b[0m\u001b[0;34m)\u001b[0m\u001b[0;34m\u001b[0m\u001b[0;34m\u001b[0m\u001b[0m\n\u001b[0m\u001b[1;32m     49\u001b[0m \u001b[0;34m\u001b[0m\u001b[0m\n",
      "\u001b[0;32m~/anaconda3/envs/autok2/lib/python3.7/site-packages/kerastuner/engine/hypermodel.py\u001b[0m in \u001b[0;36m_build_wrapper\u001b[0;34m(self, hp, *args, **kwargs)\u001b[0m\n\u001b[1;32m     63\u001b[0m             \u001b[0mhp\u001b[0m \u001b[0;34m=\u001b[0m \u001b[0mhp\u001b[0m\u001b[0;34m.\u001b[0m\u001b[0mcopy\u001b[0m\u001b[0;34m(\u001b[0m\u001b[0;34m)\u001b[0m\u001b[0;34m\u001b[0m\u001b[0;34m\u001b[0m\u001b[0m\n\u001b[0;32m---> 64\u001b[0;31m         \u001b[0;32mreturn\u001b[0m \u001b[0mself\u001b[0m\u001b[0;34m.\u001b[0m\u001b[0m_build\u001b[0m\u001b[0;34m(\u001b[0m\u001b[0mhp\u001b[0m\u001b[0;34m,\u001b[0m \u001b[0;34m*\u001b[0m\u001b[0margs\u001b[0m\u001b[0;34m,\u001b[0m \u001b[0;34m**\u001b[0m\u001b[0mkwargs\u001b[0m\u001b[0;34m)\u001b[0m\u001b[0;34m\u001b[0m\u001b[0;34m\u001b[0m\u001b[0m\n\u001b[0m\u001b[1;32m     65\u001b[0m \u001b[0;34m\u001b[0m\u001b[0m\n",
      "\u001b[0;32m~/anaconda3/envs/autok2/lib/python3.7/site-packages/autokeras-1.0.6.dev0-py3.7.egg/autokeras/blocks/wrapper.py\u001b[0m in \u001b[0;36mbuild\u001b[0;34m(self, hp, inputs)\u001b[0m\n\u001b[1;32m    101\u001b[0m             \u001b[0;32mwith\u001b[0m \u001b[0mhp\u001b[0m\u001b[0;34m.\u001b[0m\u001b[0mconditional_scope\u001b[0m\u001b[0;34m(\u001b[0m\u001b[0mBLOCK_TYPE\u001b[0m\u001b[0;34m,\u001b[0m \u001b[0;34m[\u001b[0m\u001b[0mblock_type\u001b[0m\u001b[0;34m]\u001b[0m\u001b[0;34m)\u001b[0m\u001b[0;34m:\u001b[0m\u001b[0;34m\u001b[0m\u001b[0;34m\u001b[0m\u001b[0m\n\u001b[0;32m--> 102\u001b[0;31m                 \u001b[0moutput_node\u001b[0m \u001b[0;34m=\u001b[0m \u001b[0mself\u001b[0m\u001b[0;34m.\u001b[0m\u001b[0m_build_block\u001b[0m\u001b[0;34m(\u001b[0m\u001b[0mhp\u001b[0m\u001b[0;34m,\u001b[0m \u001b[0moutput_node\u001b[0m\u001b[0;34m,\u001b[0m \u001b[0mblock_type\u001b[0m\u001b[0;34m)\u001b[0m\u001b[0;34m\u001b[0m\u001b[0;34m\u001b[0m\u001b[0m\n\u001b[0m\u001b[1;32m    103\u001b[0m         \u001b[0;32melse\u001b[0m\u001b[0;34m:\u001b[0m\u001b[0;34m\u001b[0m\u001b[0;34m\u001b[0m\u001b[0m\n",
      "\u001b[0;32m~/anaconda3/envs/autok2/lib/python3.7/site-packages/autokeras-1.0.6.dev0-py3.7.egg/autokeras/blocks/wrapper.py\u001b[0m in \u001b[0;36m_build_block\u001b[0;34m(self, hp, output_node, block_type)\u001b[0m\n\u001b[1;32m     74\u001b[0m         \u001b[0;32mif\u001b[0m \u001b[0mblock_type\u001b[0m \u001b[0;34m==\u001b[0m \u001b[0mRESNET\u001b[0m\u001b[0;34m:\u001b[0m\u001b[0;34m\u001b[0m\u001b[0;34m\u001b[0m\u001b[0m\n\u001b[0;32m---> 75\u001b[0;31m             \u001b[0;32mreturn\u001b[0m \u001b[0mbasic\u001b[0m\u001b[0;34m.\u001b[0m\u001b[0mResNetBlock\u001b[0m\u001b[0;34m(\u001b[0m\u001b[0;34m)\u001b[0m\u001b[0;34m.\u001b[0m\u001b[0mbuild\u001b[0m\u001b[0;34m(\u001b[0m\u001b[0mhp\u001b[0m\u001b[0;34m,\u001b[0m \u001b[0moutput_node\u001b[0m\u001b[0;34m)\u001b[0m\u001b[0;34m\u001b[0m\u001b[0;34m\u001b[0m\u001b[0m\n\u001b[0m\u001b[1;32m     76\u001b[0m         \u001b[0;32melif\u001b[0m \u001b[0mblock_type\u001b[0m \u001b[0;34m==\u001b[0m \u001b[0mXCEPTION\u001b[0m\u001b[0;34m:\u001b[0m\u001b[0;34m\u001b[0m\u001b[0;34m\u001b[0m\u001b[0m\n",
      "\u001b[0;32m~/anaconda3/envs/autok2/lib/python3.7/site-packages/autokeras-1.0.6.dev0-py3.7.egg/autokeras/engine/block.py\u001b[0m in \u001b[0;36m_build_wrapper\u001b[0;34m(self, hp, *args, **kwargs)\u001b[0m\n\u001b[1;32m     47\u001b[0m         \u001b[0;32mwith\u001b[0m \u001b[0mhp\u001b[0m\u001b[0;34m.\u001b[0m\u001b[0mname_scope\u001b[0m\u001b[0;34m(\u001b[0m\u001b[0mself\u001b[0m\u001b[0;34m.\u001b[0m\u001b[0mname\u001b[0m\u001b[0;34m)\u001b[0m\u001b[0;34m:\u001b[0m\u001b[0;34m\u001b[0m\u001b[0;34m\u001b[0m\u001b[0m\n\u001b[0;32m---> 48\u001b[0;31m             \u001b[0;32mreturn\u001b[0m \u001b[0msuper\u001b[0m\u001b[0;34m(\u001b[0m\u001b[0;34m)\u001b[0m\u001b[0;34m.\u001b[0m\u001b[0m_build_wrapper\u001b[0m\u001b[0;34m(\u001b[0m\u001b[0mhp\u001b[0m\u001b[0;34m,\u001b[0m \u001b[0;34m*\u001b[0m\u001b[0margs\u001b[0m\u001b[0;34m,\u001b[0m \u001b[0;34m**\u001b[0m\u001b[0mkwargs\u001b[0m\u001b[0;34m)\u001b[0m\u001b[0;34m\u001b[0m\u001b[0;34m\u001b[0m\u001b[0m\n\u001b[0m\u001b[1;32m     49\u001b[0m \u001b[0;34m\u001b[0m\u001b[0m\n",
      "\u001b[0;32m~/anaconda3/envs/autok2/lib/python3.7/site-packages/kerastuner/engine/hypermodel.py\u001b[0m in \u001b[0;36m_build_wrapper\u001b[0;34m(self, hp, *args, **kwargs)\u001b[0m\n\u001b[1;32m     63\u001b[0m             \u001b[0mhp\u001b[0m \u001b[0;34m=\u001b[0m \u001b[0mhp\u001b[0m\u001b[0;34m.\u001b[0m\u001b[0mcopy\u001b[0m\u001b[0;34m(\u001b[0m\u001b[0;34m)\u001b[0m\u001b[0;34m\u001b[0m\u001b[0;34m\u001b[0m\u001b[0m\n\u001b[0;32m---> 64\u001b[0;31m         \u001b[0;32mreturn\u001b[0m \u001b[0mself\u001b[0m\u001b[0;34m.\u001b[0m\u001b[0m_build\u001b[0m\u001b[0;34m(\u001b[0m\u001b[0mhp\u001b[0m\u001b[0;34m,\u001b[0m \u001b[0;34m*\u001b[0m\u001b[0margs\u001b[0m\u001b[0;34m,\u001b[0m \u001b[0;34m**\u001b[0m\u001b[0mkwargs\u001b[0m\u001b[0;34m)\u001b[0m\u001b[0;34m\u001b[0m\u001b[0;34m\u001b[0m\u001b[0m\n\u001b[0m\u001b[1;32m     65\u001b[0m \u001b[0;34m\u001b[0m\u001b[0m\n",
      "\u001b[0;32m~/anaconda3/envs/autok2/lib/python3.7/site-packages/autokeras-1.0.6.dev0-py3.7.egg/autokeras/blocks/basic.py\u001b[0m in \u001b[0;36mbuild\u001b[0;34m(self, hp, inputs)\u001b[0m\n\u001b[1;32m    573\u001b[0m             \u001b[0mmodel\u001b[0m \u001b[0;34m=\u001b[0m \u001b[0mself\u001b[0m\u001b[0;34m.\u001b[0m\u001b[0mmodels\u001b[0m\u001b[0;34m[\u001b[0m\u001b[0mversion\u001b[0m\u001b[0;34m]\u001b[0m\u001b[0;34m(\u001b[0m\u001b[0mweights\u001b[0m\u001b[0;34m=\u001b[0m\u001b[0;34m\"imagenet\"\u001b[0m\u001b[0;34m,\u001b[0m \u001b[0minclude_top\u001b[0m\u001b[0;34m=\u001b[0m\u001b[0;32mFalse\u001b[0m\u001b[0;34m)\u001b[0m\u001b[0;34m\u001b[0m\u001b[0;34m\u001b[0m\u001b[0m\n\u001b[0;32m--> 574\u001b[0;31m             \u001b[0mmodel\u001b[0m\u001b[0;34m.\u001b[0m\u001b[0mtrainable\u001b[0m \u001b[0;34m=\u001b[0m \u001b[0mhp\u001b[0m\u001b[0;34m.\u001b[0m\u001b[0mBoolean\u001b[0m\u001b[0;34m(\u001b[0m\u001b[0;34m\"trainable\"\u001b[0m\u001b[0;34m,\u001b[0m \u001b[0mdefault\u001b[0m\u001b[0;34m=\u001b[0m\u001b[0;32mFalse\u001b[0m\u001b[0;34m)\u001b[0m\u001b[0;34m\u001b[0m\u001b[0;34m\u001b[0m\u001b[0m\n\u001b[0m\u001b[1;32m    575\u001b[0m         \u001b[0;32melse\u001b[0m\u001b[0;34m:\u001b[0m\u001b[0;34m\u001b[0m\u001b[0;34m\u001b[0m\u001b[0m\n",
      "\u001b[0;32m~/anaconda3/envs/autok2/lib/python3.7/site-packages/kerastuner/engine/hyperparameters.py\u001b[0m in \u001b[0;36mBoolean\u001b[0;34m(self, name, default, parent_name, parent_values)\u001b[0m\n\u001b[1;32m    813\u001b[0m                          conditions=self._conditions)\n\u001b[0;32m--> 814\u001b[0;31m             \u001b[0;32mreturn\u001b[0m \u001b[0mself\u001b[0m\u001b[0;34m.\u001b[0m\u001b[0m_retrieve\u001b[0m\u001b[0;34m(\u001b[0m\u001b[0mhp\u001b[0m\u001b[0;34m)\u001b[0m\u001b[0;34m\u001b[0m\u001b[0;34m\u001b[0m\u001b[0m\n\u001b[0m\u001b[1;32m    815\u001b[0m \u001b[0;34m\u001b[0m\u001b[0m\n",
      "\u001b[0;32m~/anaconda3/envs/autok2/lib/python3.7/site-packages/kerastuner/engine/hyperparameters.py\u001b[0m in \u001b[0;36m_retrieve\u001b[0;34m(self, hp)\u001b[0m\n\u001b[1;32m    624\u001b[0m             \u001b[0;32mif\u001b[0m \u001b[0mself\u001b[0m\u001b[0;34m.\u001b[0m\u001b[0m_conditions_are_active\u001b[0m\u001b[0;34m(\u001b[0m\u001b[0mhp\u001b[0m\u001b[0;34m.\u001b[0m\u001b[0mconditions\u001b[0m\u001b[0;34m)\u001b[0m\u001b[0;34m:\u001b[0m\u001b[0;34m\u001b[0m\u001b[0;34m\u001b[0m\u001b[0m\n\u001b[0;32m--> 625\u001b[0;31m                 \u001b[0;32mreturn\u001b[0m \u001b[0mself\u001b[0m\u001b[0;34m.\u001b[0m\u001b[0mvalues\u001b[0m\u001b[0;34m[\u001b[0m\u001b[0mhp\u001b[0m\u001b[0;34m.\u001b[0m\u001b[0mname\u001b[0m\u001b[0;34m]\u001b[0m\u001b[0;34m\u001b[0m\u001b[0;34m\u001b[0m\u001b[0m\n\u001b[0m\u001b[1;32m    626\u001b[0m             \u001b[0;32mreturn\u001b[0m \u001b[0;32mNone\u001b[0m  \u001b[0;31m# Ensures inactive values are not relied on by user.\u001b[0m\u001b[0;34m\u001b[0m\u001b[0;34m\u001b[0m\u001b[0m\n",
      "\u001b[0;31mKeyError\u001b[0m: 'image_block_1/res_net_block_1/trainable'",
      "\nDuring handling of the above exception, another exception occurred:\n",
      "\u001b[0;31mRuntimeError\u001b[0m                              Traceback (most recent call last)",
      "\u001b[0;32m<ipython-input-8-8c0545153743>\u001b[0m in \u001b[0;36m<module>\u001b[0;34m\u001b[0m\n\u001b[1;32m      1\u001b[0m \u001b[0mclf\u001b[0m \u001b[0;34m=\u001b[0m \u001b[0mak\u001b[0m\u001b[0;34m.\u001b[0m\u001b[0mImageClassifier\u001b[0m\u001b[0;34m(\u001b[0m\u001b[0mmax_trials\u001b[0m\u001b[0;34m=\u001b[0m\u001b[0;36m5\u001b[0m\u001b[0;34m,\u001b[0m \u001b[0moverwrite\u001b[0m\u001b[0;34m=\u001b[0m\u001b[0;32mTrue\u001b[0m\u001b[0;34m)\u001b[0m\u001b[0;34m\u001b[0m\u001b[0;34m\u001b[0m\u001b[0m\n\u001b[0;32m----> 2\u001b[0;31m \u001b[0mclf\u001b[0m\u001b[0;34m.\u001b[0m\u001b[0mfit\u001b[0m\u001b[0;34m(\u001b[0m\u001b[0mX_train\u001b[0m\u001b[0;34m,\u001b[0m \u001b[0my_train\u001b[0m\u001b[0;34m,\u001b[0m \u001b[0mepochs\u001b[0m\u001b[0;34m=\u001b[0m\u001b[0;36m2\u001b[0m\u001b[0;34m,\u001b[0m \u001b[0mverbose\u001b[0m\u001b[0;34m=\u001b[0m\u001b[0;36m1\u001b[0m\u001b[0;34m,\u001b[0m \u001b[0;34m)\u001b[0m\u001b[0;34m\u001b[0m\u001b[0;34m\u001b[0m\u001b[0m\n\u001b[0m\u001b[1;32m      3\u001b[0m \u001b[0;34m\u001b[0m\u001b[0m\n\u001b[1;32m      4\u001b[0m \u001b[0;34m\u001b[0m\u001b[0m\n\u001b[1;32m      5\u001b[0m \u001b[0;31m# Sometimes this does not return the best model. Use code below to obtain\u001b[0m\u001b[0;34m\u001b[0m\u001b[0;34m\u001b[0m\u001b[0;34m\u001b[0m\u001b[0m\n",
      "\u001b[0;32m~/anaconda3/envs/autok2/lib/python3.7/site-packages/autokeras-1.0.6.dev0-py3.7.egg/autokeras/tasks/image.py\u001b[0m in \u001b[0;36mfit\u001b[0;34m(self, x, y, epochs, callbacks, validation_split, validation_data, **kwargs)\u001b[0m\n\u001b[1;32m    159\u001b[0m             \u001b[0mvalidation_split\u001b[0m\u001b[0;34m=\u001b[0m\u001b[0mvalidation_split\u001b[0m\u001b[0;34m,\u001b[0m\u001b[0;34m\u001b[0m\u001b[0;34m\u001b[0m\u001b[0m\n\u001b[1;32m    160\u001b[0m             \u001b[0mvalidation_data\u001b[0m\u001b[0;34m=\u001b[0m\u001b[0mvalidation_data\u001b[0m\u001b[0;34m,\u001b[0m\u001b[0;34m\u001b[0m\u001b[0;34m\u001b[0m\u001b[0m\n\u001b[0;32m--> 161\u001b[0;31m             \u001b[0;34m**\u001b[0m\u001b[0mkwargs\u001b[0m\u001b[0;34m\u001b[0m\u001b[0;34m\u001b[0m\u001b[0m\n\u001b[0m\u001b[1;32m    162\u001b[0m         )\n\u001b[1;32m    163\u001b[0m \u001b[0;34m\u001b[0m\u001b[0m\n",
      "\u001b[0;32m~/anaconda3/envs/autok2/lib/python3.7/site-packages/autokeras-1.0.6.dev0-py3.7.egg/autokeras/auto_model.py\u001b[0m in \u001b[0;36mfit\u001b[0;34m(self, x, y, batch_size, epochs, callbacks, validation_split, validation_data, **kwargs)\u001b[0m\n\u001b[1;32m    283\u001b[0m             \u001b[0mvalidation_data\u001b[0m\u001b[0;34m=\u001b[0m\u001b[0mvalidation_data\u001b[0m\u001b[0;34m,\u001b[0m\u001b[0;34m\u001b[0m\u001b[0;34m\u001b[0m\u001b[0m\n\u001b[1;32m    284\u001b[0m             \u001b[0mfit_on_val_data\u001b[0m\u001b[0;34m=\u001b[0m\u001b[0mself\u001b[0m\u001b[0;34m.\u001b[0m\u001b[0m_split_dataset\u001b[0m\u001b[0;34m,\u001b[0m\u001b[0;34m\u001b[0m\u001b[0;34m\u001b[0m\u001b[0m\n\u001b[0;32m--> 285\u001b[0;31m             \u001b[0;34m**\u001b[0m\u001b[0mkwargs\u001b[0m\u001b[0;34m\u001b[0m\u001b[0;34m\u001b[0m\u001b[0m\n\u001b[0m\u001b[1;32m    286\u001b[0m         )\n\u001b[1;32m    287\u001b[0m \u001b[0;34m\u001b[0m\u001b[0m\n",
      "\u001b[0;32m~/anaconda3/envs/autok2/lib/python3.7/site-packages/autokeras-1.0.6.dev0-py3.7.egg/autokeras/engine/tuner.py\u001b[0m in \u001b[0;36msearch\u001b[0;34m(self, epochs, callbacks, fit_on_val_data, **fit_kwargs)\u001b[0m\n\u001b[1;32m    133\u001b[0m         \u001b[0mself\u001b[0m\u001b[0;34m.\u001b[0m\u001b[0moracle\u001b[0m\u001b[0;34m.\u001b[0m\u001b[0mupdate_space\u001b[0m\u001b[0;34m(\u001b[0m\u001b[0mhp\u001b[0m\u001b[0;34m)\u001b[0m\u001b[0;34m\u001b[0m\u001b[0;34m\u001b[0m\u001b[0m\n\u001b[1;32m    134\u001b[0m \u001b[0;34m\u001b[0m\u001b[0m\n\u001b[0;32m--> 135\u001b[0;31m         \u001b[0msuper\u001b[0m\u001b[0;34m(\u001b[0m\u001b[0;34m)\u001b[0m\u001b[0;34m.\u001b[0m\u001b[0msearch\u001b[0m\u001b[0;34m(\u001b[0m\u001b[0mepochs\u001b[0m\u001b[0;34m=\u001b[0m\u001b[0mepochs\u001b[0m\u001b[0;34m,\u001b[0m \u001b[0mcallbacks\u001b[0m\u001b[0;34m=\u001b[0m\u001b[0mnew_callbacks\u001b[0m\u001b[0;34m,\u001b[0m \u001b[0;34m**\u001b[0m\u001b[0mfit_kwargs\u001b[0m\u001b[0;34m)\u001b[0m\u001b[0;34m\u001b[0m\u001b[0;34m\u001b[0m\u001b[0m\n\u001b[0m\u001b[1;32m    136\u001b[0m \u001b[0;34m\u001b[0m\u001b[0m\n\u001b[1;32m    137\u001b[0m         \u001b[0;31m# Train the best model use validation data.\u001b[0m\u001b[0;34m\u001b[0m\u001b[0;34m\u001b[0m\u001b[0;34m\u001b[0m\u001b[0m\n",
      "\u001b[0;32m~/anaconda3/envs/autok2/lib/python3.7/site-packages/kerastuner/engine/base_tuner.py\u001b[0m in \u001b[0;36msearch\u001b[0;34m(self, *fit_args, **fit_kwargs)\u001b[0m\n\u001b[1;32m    129\u001b[0m \u001b[0;34m\u001b[0m\u001b[0m\n\u001b[1;32m    130\u001b[0m             \u001b[0mself\u001b[0m\u001b[0;34m.\u001b[0m\u001b[0mon_trial_begin\u001b[0m\u001b[0;34m(\u001b[0m\u001b[0mtrial\u001b[0m\u001b[0;34m)\u001b[0m\u001b[0;34m\u001b[0m\u001b[0;34m\u001b[0m\u001b[0m\n\u001b[0;32m--> 131\u001b[0;31m             \u001b[0mself\u001b[0m\u001b[0;34m.\u001b[0m\u001b[0mrun_trial\u001b[0m\u001b[0;34m(\u001b[0m\u001b[0mtrial\u001b[0m\u001b[0;34m,\u001b[0m \u001b[0;34m*\u001b[0m\u001b[0mfit_args\u001b[0m\u001b[0;34m,\u001b[0m \u001b[0;34m**\u001b[0m\u001b[0mfit_kwargs\u001b[0m\u001b[0;34m)\u001b[0m\u001b[0;34m\u001b[0m\u001b[0;34m\u001b[0m\u001b[0m\n\u001b[0m\u001b[1;32m    132\u001b[0m             \u001b[0mself\u001b[0m\u001b[0;34m.\u001b[0m\u001b[0mon_trial_end\u001b[0m\u001b[0;34m(\u001b[0m\u001b[0mtrial\u001b[0m\u001b[0;34m)\u001b[0m\u001b[0;34m\u001b[0m\u001b[0;34m\u001b[0m\u001b[0m\n\u001b[1;32m    133\u001b[0m         \u001b[0mself\u001b[0m\u001b[0;34m.\u001b[0m\u001b[0mon_search_end\u001b[0m\u001b[0;34m(\u001b[0m\u001b[0;34m)\u001b[0m\u001b[0;34m\u001b[0m\u001b[0;34m\u001b[0m\u001b[0m\n",
      "\u001b[0;32m~/anaconda3/envs/autok2/lib/python3.7/site-packages/kerastuner/engine/tuner.py\u001b[0m in \u001b[0;36mrun_trial\u001b[0;34m(self, trial, *fit_args, **fit_kwargs)\u001b[0m\n\u001b[1;32m    148\u001b[0m         \u001b[0mcopied_fit_kwargs\u001b[0m\u001b[0;34m[\u001b[0m\u001b[0;34m'callbacks'\u001b[0m\u001b[0;34m]\u001b[0m \u001b[0;34m=\u001b[0m \u001b[0mcallbacks\u001b[0m\u001b[0;34m\u001b[0m\u001b[0;34m\u001b[0m\u001b[0m\n\u001b[1;32m    149\u001b[0m \u001b[0;34m\u001b[0m\u001b[0m\n\u001b[0;32m--> 150\u001b[0;31m         \u001b[0mmodel\u001b[0m \u001b[0;34m=\u001b[0m \u001b[0mself\u001b[0m\u001b[0;34m.\u001b[0m\u001b[0mhypermodel\u001b[0m\u001b[0;34m.\u001b[0m\u001b[0mbuild\u001b[0m\u001b[0;34m(\u001b[0m\u001b[0mtrial\u001b[0m\u001b[0;34m.\u001b[0m\u001b[0mhyperparameters\u001b[0m\u001b[0;34m)\u001b[0m\u001b[0;34m\u001b[0m\u001b[0;34m\u001b[0m\u001b[0m\n\u001b[0m\u001b[1;32m    151\u001b[0m         self._on_train_begin(model, trial.hyperparameters,\n\u001b[1;32m    152\u001b[0m                              *fit_args, **copied_fit_kwargs)\n",
      "\u001b[0;32m~/anaconda3/envs/autok2/lib/python3.7/site-packages/kerastuner/engine/hypermodel.py\u001b[0m in \u001b[0;36m_build_wrapper\u001b[0;34m(self, hp, *args, **kwargs)\u001b[0m\n\u001b[1;32m     62\u001b[0m             \u001b[0;31m# to the search space.\u001b[0m\u001b[0;34m\u001b[0m\u001b[0;34m\u001b[0m\u001b[0;34m\u001b[0m\u001b[0m\n\u001b[1;32m     63\u001b[0m             \u001b[0mhp\u001b[0m \u001b[0;34m=\u001b[0m \u001b[0mhp\u001b[0m\u001b[0;34m.\u001b[0m\u001b[0mcopy\u001b[0m\u001b[0;34m(\u001b[0m\u001b[0;34m)\u001b[0m\u001b[0;34m\u001b[0m\u001b[0;34m\u001b[0m\u001b[0m\n\u001b[0;32m---> 64\u001b[0;31m         \u001b[0;32mreturn\u001b[0m \u001b[0mself\u001b[0m\u001b[0;34m.\u001b[0m\u001b[0m_build\u001b[0m\u001b[0;34m(\u001b[0m\u001b[0mhp\u001b[0m\u001b[0;34m,\u001b[0m \u001b[0;34m*\u001b[0m\u001b[0margs\u001b[0m\u001b[0;34m,\u001b[0m \u001b[0;34m**\u001b[0m\u001b[0mkwargs\u001b[0m\u001b[0;34m)\u001b[0m\u001b[0;34m\u001b[0m\u001b[0;34m\u001b[0m\u001b[0m\n\u001b[0m\u001b[1;32m     65\u001b[0m \u001b[0;34m\u001b[0m\u001b[0m\n\u001b[1;32m     66\u001b[0m \u001b[0;34m\u001b[0m\u001b[0m\n",
      "\u001b[0;32m~/anaconda3/envs/autok2/lib/python3.7/site-packages/kerastuner/engine/hypermodel.py\u001b[0m in \u001b[0;36mbuild\u001b[0;34m(self, hp)\u001b[0m\n\u001b[1;32m    111\u001b[0m                 \u001b[0;32mif\u001b[0m \u001b[0mi\u001b[0m \u001b[0;34m==\u001b[0m \u001b[0mself\u001b[0m\u001b[0;34m.\u001b[0m\u001b[0m_max_fail_streak\u001b[0m\u001b[0;34m:\u001b[0m\u001b[0;34m\u001b[0m\u001b[0;34m\u001b[0m\u001b[0m\n\u001b[1;32m    112\u001b[0m                     raise RuntimeError(\n\u001b[0;32m--> 113\u001b[0;31m                         'Too many failed attempts to build model.')\n\u001b[0m\u001b[1;32m    114\u001b[0m                 \u001b[0;32mcontinue\u001b[0m\u001b[0;34m\u001b[0m\u001b[0;34m\u001b[0m\u001b[0m\n\u001b[1;32m    115\u001b[0m \u001b[0;34m\u001b[0m\u001b[0m\n",
      "\u001b[0;31mRuntimeError\u001b[0m: Too many failed attempts to build model."
     ]
    }
   ],
   "source": [
    "clf = ak.ImageClassifier(max_trials=100, overwrite=False, tuner='bayesian',)\n",
    "clf.fit(X_train, y_train, epochs=9, verbose=1, )\n",
    "\n",
    "# Sometimes this does not return the best model. Use code below to obtain\n",
    "    # all models produced\n",
    "#model = clf.export_model()"
   ]
  },
  {
   "cell_type": "code",
   "execution_count": null,
   "metadata": {},
   "outputs": [],
   "source": [
    "out = clf.tuner.get_best_models(100)\n",
    "for i, mm in enumerate(out):\n",
    "    mm.save(f'../intermediate_dir/autokeras_models/{i}')"
   ]
  },
  {
   "cell_type": "code",
   "execution_count": null,
   "metadata": {},
   "outputs": [],
   "source": []
  }
 ],
 "metadata": {
  "kernelspec": {
   "display_name": "autok2",
   "language": "python",
   "name": "autok2"
  },
  "language_info": {
   "codemirror_mode": {
    "name": "ipython",
    "version": 3
   },
   "file_extension": ".py",
   "mimetype": "text/x-python",
   "name": "python",
   "nbconvert_exporter": "python",
   "pygments_lexer": "ipython3",
   "version": "3.7.8"
  }
 },
 "nbformat": 4,
 "nbformat_minor": 4
}
